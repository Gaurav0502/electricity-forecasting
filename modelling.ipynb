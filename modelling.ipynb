{
 "cells": [
  {
   "cell_type": "code",
   "execution_count": 1,
   "metadata": {},
   "outputs": [],
   "source": [
    "# Modules used for data handling and manipulation\n",
    "import numpy as np\n",
    "import pandas as pd\n",
    "import json\n",
    "\n",
    "# Modules used for data visualization\n",
    "import matplotlib.pyplot as plt\n",
    "import seaborn as sns\n",
    "import pprint\n",
    "\n",
    "# Modules used for preprocessing\n",
    "from sklearn.preprocessing import StandardScaler\n",
    "\n",
    "# Modules used for time series forecasting\n",
    "import statsmodels\n",
    "from statsmodels.tsa.statespace.sarimax import SARIMAX\n",
    "\n",
    "# Modules used for model evaluation\n",
    "from sklearn.metrics import mean_absolute_percentage_error\n",
    "import evaluation\n",
    "\n",
    "# Modules used for preprocessing\n",
    "from datetime import datetime, timedelta\n",
    "import preprocess\n",
    "\n",
    "# Module for suppressing warnings\n",
    "import warnings \n",
    "warnings.filterwarnings('ignore')"
   ]
  },
  {
   "cell_type": "markdown",
   "metadata": {},
   "source": [
    "# Consolidating the data"
   ]
  },
  {
   "cell_type": "code",
   "execution_count": 20,
   "metadata": {},
   "outputs": [],
   "source": [
    "electricity = preprocess.preprocess_modelling(as_numpy=False, clustered=True, stationary=True)\n",
    "temperature = preprocess.preprocess(\"temperature\")\n",
    "precipitation = preprocess.preprocess(\"precipitation\")"
   ]
  },
  {
   "cell_type": "code",
   "execution_count": 21,
   "metadata": {},
   "outputs": [],
   "source": [
    "electricity = electricity.drop(pd.to_datetime(\"2015-01-01\"))"
   ]
  },
  {
   "cell_type": "code",
   "execution_count": 63,
   "metadata": {},
   "outputs": [],
   "source": [
    "weather = pd.merge(temperature, precipitation, on='date', how='inner').set_index(\"date\")"
   ]
  },
  {
   "cell_type": "code",
   "execution_count": 22,
   "metadata": {},
   "outputs": [],
   "source": [
    "weather = temperature.set_index(\"date\")"
   ]
  },
  {
   "cell_type": "markdown",
   "metadata": {},
   "source": [
    "# Model template"
   ]
  },
  {
   "cell_type": "code",
   "execution_count": 243,
   "metadata": {},
   "outputs": [],
   "source": [
    "from abc import ABC, abstractmethod\n",
    "\n",
    "class Model(ABC):\n",
    "   def __init__(self, data, cluster: str, window_stride = 28):\n",
    "      self.data = data\n",
    "      self.cluster = cluster\n",
    "      self.trained_model = None\n",
    "      self.ts_window_stride = window_stride\n",
    "      self.ts_train = 180\n",
    "      self.ts_test = 5\n",
    "      self.MAX_IDX = len(electricity)\n",
    "      self.forecasts = dict()\n",
    "\n",
    "   def __standardize(self, train, test):\n",
    "      scaler = StandardScaler()\n",
    "\n",
    "      train_ = pd.DataFrame(scaler.fit_transform(train), \n",
    "                                  columns=train.columns,\n",
    "                                  index = train.index)\n",
    "\n",
    "      test_ = pd.DataFrame(scaler.transform(test), \n",
    "                                 columns=test.columns,\n",
    "                                 index = test.index)\n",
    "      return train_, test_\n",
    "   \n",
    "   @abstractmethod\n",
    "   def train_model(self, train, train_idx):\n",
    "      pass\n",
    "\n",
    "   @abstractmethod\n",
    "   def get_forecasts(self, test, test_idx):\n",
    "      pass\n",
    "   \n",
    "   def cross_validate(self):\n",
    "      train_idx = [0, self.ts_train]\n",
    "      test_idx = [self.ts_train, self.ts_train + self.ts_test]\n",
    "\n",
    "      for split_id in range(50):\n",
    "         #print(split_id, train_idx, test_idx)\n",
    "         train = self.data[train_idx[0]: train_idx[1]]\n",
    "         test = self.data[test_idx[0]: test_idx[1]]\n",
    "         train, test = self.__standardize(train, test)\n",
    "         self.trained_model = self.train_model(train, train_idx)\n",
    "         preds = self.get_forecasts(test, test_idx)\n",
    "         self.forecasts[split_id] = {\"pred\": list(preds.values),\n",
    "                                     \"train_date_range\": train_idx,\n",
    "                                     \"test_date_range\": test_idx}\n",
    "\n",
    "         train_idx = [train_idx[0] + self.ts_window_stride, \n",
    "                     min(train_idx[1] + self.ts_window_stride, \n",
    "                        self.MAX_IDX)]\n",
    "         test_idx = [test_idx[0] + self.ts_window_stride, \n",
    "                     min(test_idx[1] + self.ts_window_stride, \n",
    "                        self.MAX_IDX)]\n",
    "         \n",
    "         if test_idx[0] > len(self.data):\n",
    "            break\n",
    "   \n",
    "   def mape_boxplot_by_step(self):\n",
    "\n",
    "      t = []\n",
    "\n",
    "      with open(\"clusters.json\", \"r\") as f:\n",
    "            clusters = json.load(fp = f)\n",
    "            cluster = clusters[self.cluster[-1]]\n",
    "\n",
    "            l = preprocess.preprocess_modelling(as_numpy=False, \n",
    "                                                clustered=False, \n",
    "                                                stationary=True)\n",
    "            \n",
    "            mape = {\"p1\": [], \"p2\": [], \n",
    "                    \"p3\": [], \"p4\": [], \"p5\": []}\n",
    "            for j in self.forecasts:\n",
    "               train_start, train_end = self.forecasts[j][\"train_date_range\"]\n",
    "               test_start, test_end = self.forecasts[j][\"test_date_range\"]\n",
    "               train = l[cluster][train_start:train_end]\n",
    "               test = l[cluster][test_start:test_end]\n",
    "               train, test = self.__standardize(train, test)\n",
    "               self.temp = test\n",
    "               a, b, c, d, e = test.T.apply(lambda x: (x - self.forecasts[0][\"pred\"])*100 / x,\n",
    "                                 axis = 1).replace([np.inf, -np.inf], 100).T.values.tolist()\n",
    "               mape[\"p1\"] = mape[\"p1\"] + a\n",
    "               mape[\"p2\"] = mape[\"p2\"] + b\n",
    "               mape[\"p3\"] = mape[\"p3\"] + c\n",
    "               mape[\"p4\"] = mape[\"p4\"] + d\n",
    "               mape[\"p5\"] = mape[\"p5\"] + e\n",
    "            \n",
    "            sns.boxplot(pd.DataFrame.from_dict(mape, orient=\"columns\"),\n",
    "                        log_scale=True, orient='h', whis=60)\n",
    "\n",
    "            plt.xlabel(\"log(Mean Absolute Percentage Error)\")\n",
    "            plt.ylabel(\"The ith forecast\")\n",
    "            plt.title(f\"MAPE for each forecast across different train-test windows ({self.cluster})\")\n",
    "            plt.show()\n",
    "   \n",
    "   def mape_boxplot_by_client(self, num_clients: int):\n",
    "      \n",
    "      t = []\n",
    "\n",
    "      with open(\"clusters.json\", \"r\") as f:\n",
    "            clusters = json.load(fp = f)\n",
    "            cluster = clusters[self.cluster[-1]]\n",
    "\n",
    "            l = preprocess.preprocess_modelling(as_numpy=False, \n",
    "                                                clustered=False, \n",
    "                                                stationary=True)\n",
    "            \n",
    "            for i in cluster:\n",
    "               mape = []\n",
    "               for j in self.forecasts:\n",
    "                  train_start, train_end = self.forecasts[j][\"train_date_range\"]\n",
    "                  test_start, test_end = self.forecasts[j][\"test_date_range\"]\n",
    "                  train = l[[i]][train_start:train_end]\n",
    "                  test = l[[i]][test_start:test_end]\n",
    "                  train, test = self.__standardize(train, test)\n",
    "                  m = mean_absolute_percentage_error(test, self.forecasts[j][\"pred\"])\n",
    "                  mape.append(m)\n",
    "               t.append(mape)\n",
    "            \n",
    "            mape_ = dict(zip(cluster[0:num_clients], t))\n",
    "            sns.boxplot(pd.DataFrame.from_dict(mape_, orient=\"columns\"),\n",
    "                        log_scale=True, orient='h')\n",
    "\n",
    "            plt.xlabel(\"log(Mean Absolute Percentage Error)\")\n",
    "            plt.ylabel(\"Clients in the cluster\")\n",
    "            plt.title(f\"MAPE for each client across different train-test windows ({self.cluster})\")\n",
    "            plt.show()\n",
    "               "
   ]
  },
  {
   "cell_type": "markdown",
   "metadata": {},
   "source": [
    "# SARIMAX"
   ]
  },
  {
   "cell_type": "code",
   "execution_count": 244,
   "metadata": {},
   "outputs": [],
   "source": [
    "class SARIMAX_model(Model):\n",
    "    def __init__(self, data, exogs, cluster: str, window_stride = 28):\n",
    "        super().__init__(data, cluster, window_stride)\n",
    "        self.exogs = exogs\n",
    "    \n",
    "    def train_model(self, train, train_idx):\n",
    "        model = SARIMAX(endog = train[self.cluster], \n",
    "                        exog = self.exogs[train_idx[0]: train_idx[1]], \n",
    "                        order = (1, 1, 1), \n",
    "                        seasonal_order = (1, 1, 1, 15))\n",
    "        return model.fit()\n",
    "    \n",
    "    def get_forecasts(self, test, test_idx):\n",
    "        return self.trained_model.predict(start = self.data.index[test_idx[0]], \n",
    "                                        end = self.data.index[test_idx[0]] + timedelta(len(test) - 1),\n",
    "                                        exog = self.exogs[test_idx[0]: test_idx[1]])"
   ]
  },
  {
   "cell_type": "code",
   "execution_count": 245,
   "metadata": {},
   "outputs": [],
   "source": [
    "m = SARIMAX_model(electricity, weather, \"cluster_1\")"
   ]
  },
  {
   "cell_type": "code",
   "execution_count": 246,
   "metadata": {},
   "outputs": [],
   "source": [
    "m.cross_validate()"
   ]
  },
  {
   "cell_type": "code",
   "execution_count": 104,
   "metadata": {},
   "outputs": [
    {
     "data": {
      "image/png": "[encoded data removed]",
      "text/plain": [
       "<Figure size 640x480 with 1 Axes>"
      ]
     },
     "metadata": {},
     "output_type": "display_data"
    }
   ],
   "source": [
    "m.mape_boxplot_by_client(20)"
   ]
  },
  {
   "cell_type": "code",
   "execution_count": null,
   "metadata": {},
   "outputs": [],
   "source": [
    "m.mape_boxplot_by_step()"
   ]
  }
 ],
 "metadata": {
  "kernelspec": {
   "display_name": "forecasting",
   "language": "python",
   "name": "python3"
  },
  "language_info": {
   "codemirror_mode": {
    "name": "ipython",
    "version": 3
   },
   "file_extension": ".py",
   "mimetype": "text/x-python",
   "name": "python",
   "nbconvert_exporter": "python",
   "pygments_lexer": "ipython3",
   "version": "3.12.6"
  }
 },
 "nbformat": 4,
 "nbformat_minor": 2
}
