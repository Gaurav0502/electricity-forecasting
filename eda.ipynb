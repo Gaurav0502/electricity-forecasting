{
 "cells": [
  {
   "cell_type": "code",
   "execution_count": 1,
   "id": "113903f1",
   "metadata": {},
   "outputs": [
    {
     "name": "stderr",
     "output_type": "stream",
     "text": [
      "/var/folders/5g/gx13kvt96znbgdtb0fm1r14c0000gn/T/ipykernel_18155/2307407920.py:10: DeprecationWarning: Please import `pearsonr` from the `scipy.stats` namespace; the `scipy.stats.stats` namespace is deprecated and will be removed in SciPy 2.0.0.\n",
      "  from scipy.stats.stats import pearsonr\n"
     ]
    }
   ],
   "source": [
    "# Modules used for data handling and manipulation\n",
    "import numpy as np\n",
    "import pandas as pd\n",
    "\n",
    "# Modules used for data visualization\n",
    "import matplotlib.pyplot as plt\n",
    "import seaborn as sns\n",
    "\n",
    "# Module used for pearson correlation\n",
    "from scipy.stats.stats import pearsonr   \n",
    "\n",
    "# Modules used for preprocessing\n",
    "from datetime import datetime\n",
    "import preprocess\n",
    "\n",
    "# Module for suppressing warnings.\n",
    "import warnings \n",
    "warnings.filterwarnings('ignore')"
   ]
  },
  {
   "cell_type": "code",
   "execution_count": 2,
   "id": "5b0b099e",
   "metadata": {},
   "outputs": [],
   "source": [
    "df_ = preprocess.preprocess(\"electricity\")"
   ]
  },
  {
   "cell_type": "code",
   "execution_count": 3,
   "id": "956ab7db",
   "metadata": {},
   "outputs": [
    {
     "data": {
      "text/html": [
       "<div>\n",
       "<style scoped>\n",
       "    .dataframe tbody tr th:only-of-type {\n",
       "        vertical-align: middle;\n",
       "    }\n",
       "\n",
       "    .dataframe tbody tr th {\n",
       "        vertical-align: top;\n",
       "    }\n",
       "\n",
       "    .dataframe thead th {\n",
       "        text-align: right;\n",
       "    }\n",
       "</style>\n",
       "<table border=\"1\" class=\"dataframe\">\n",
       "  <thead>\n",
       "    <tr style=\"text-align: right;\">\n",
       "      <th></th>\n",
       "      <th>timestamp</th>\n",
       "      <th>MT_001</th>\n",
       "      <th>MT_002</th>\n",
       "      <th>MT_003</th>\n",
       "      <th>MT_004</th>\n",
       "      <th>MT_005</th>\n",
       "      <th>MT_006</th>\n",
       "      <th>MT_007</th>\n",
       "      <th>MT_008</th>\n",
       "      <th>MT_009</th>\n",
       "      <th>...</th>\n",
       "      <th>MT_361</th>\n",
       "      <th>MT_362</th>\n",
       "      <th>MT_363</th>\n",
       "      <th>MT_364</th>\n",
       "      <th>MT_365</th>\n",
       "      <th>MT_366</th>\n",
       "      <th>MT_367</th>\n",
       "      <th>MT_368</th>\n",
       "      <th>MT_369</th>\n",
       "      <th>MT_370</th>\n",
       "    </tr>\n",
       "  </thead>\n",
       "  <tbody>\n",
       "    <tr>\n",
       "      <th>0</th>\n",
       "      <td>2011-01-01 00:15:00</td>\n",
       "      <td>0.0</td>\n",
       "      <td>0.0</td>\n",
       "      <td>0.0</td>\n",
       "      <td>0.0</td>\n",
       "      <td>0.0</td>\n",
       "      <td>0.0</td>\n",
       "      <td>0.0</td>\n",
       "      <td>0.0</td>\n",
       "      <td>0.0</td>\n",
       "      <td>...</td>\n",
       "      <td>0.0</td>\n",
       "      <td>0.0</td>\n",
       "      <td>0.0</td>\n",
       "      <td>0.0</td>\n",
       "      <td>0.0</td>\n",
       "      <td>0.0</td>\n",
       "      <td>0.0</td>\n",
       "      <td>0.0</td>\n",
       "      <td>0.0</td>\n",
       "      <td>0.0</td>\n",
       "    </tr>\n",
       "    <tr>\n",
       "      <th>1</th>\n",
       "      <td>2011-01-01 00:30:00</td>\n",
       "      <td>0.0</td>\n",
       "      <td>0.0</td>\n",
       "      <td>0.0</td>\n",
       "      <td>0.0</td>\n",
       "      <td>0.0</td>\n",
       "      <td>0.0</td>\n",
       "      <td>0.0</td>\n",
       "      <td>0.0</td>\n",
       "      <td>0.0</td>\n",
       "      <td>...</td>\n",
       "      <td>0.0</td>\n",
       "      <td>0.0</td>\n",
       "      <td>0.0</td>\n",
       "      <td>0.0</td>\n",
       "      <td>0.0</td>\n",
       "      <td>0.0</td>\n",
       "      <td>0.0</td>\n",
       "      <td>0.0</td>\n",
       "      <td>0.0</td>\n",
       "      <td>0.0</td>\n",
       "    </tr>\n",
       "    <tr>\n",
       "      <th>2</th>\n",
       "      <td>2011-01-01 00:45:00</td>\n",
       "      <td>0.0</td>\n",
       "      <td>0.0</td>\n",
       "      <td>0.0</td>\n",
       "      <td>0.0</td>\n",
       "      <td>0.0</td>\n",
       "      <td>0.0</td>\n",
       "      <td>0.0</td>\n",
       "      <td>0.0</td>\n",
       "      <td>0.0</td>\n",
       "      <td>...</td>\n",
       "      <td>0.0</td>\n",
       "      <td>0.0</td>\n",
       "      <td>0.0</td>\n",
       "      <td>0.0</td>\n",
       "      <td>0.0</td>\n",
       "      <td>0.0</td>\n",
       "      <td>0.0</td>\n",
       "      <td>0.0</td>\n",
       "      <td>0.0</td>\n",
       "      <td>0.0</td>\n",
       "    </tr>\n",
       "    <tr>\n",
       "      <th>3</th>\n",
       "      <td>2011-01-01 01:00:00</td>\n",
       "      <td>0.0</td>\n",
       "      <td>0.0</td>\n",
       "      <td>0.0</td>\n",
       "      <td>0.0</td>\n",
       "      <td>0.0</td>\n",
       "      <td>0.0</td>\n",
       "      <td>0.0</td>\n",
       "      <td>0.0</td>\n",
       "      <td>0.0</td>\n",
       "      <td>...</td>\n",
       "      <td>0.0</td>\n",
       "      <td>0.0</td>\n",
       "      <td>0.0</td>\n",
       "      <td>0.0</td>\n",
       "      <td>0.0</td>\n",
       "      <td>0.0</td>\n",
       "      <td>0.0</td>\n",
       "      <td>0.0</td>\n",
       "      <td>0.0</td>\n",
       "      <td>0.0</td>\n",
       "    </tr>\n",
       "    <tr>\n",
       "      <th>4</th>\n",
       "      <td>2011-01-01 01:15:00</td>\n",
       "      <td>0.0</td>\n",
       "      <td>0.0</td>\n",
       "      <td>0.0</td>\n",
       "      <td>0.0</td>\n",
       "      <td>0.0</td>\n",
       "      <td>0.0</td>\n",
       "      <td>0.0</td>\n",
       "      <td>0.0</td>\n",
       "      <td>0.0</td>\n",
       "      <td>...</td>\n",
       "      <td>0.0</td>\n",
       "      <td>0.0</td>\n",
       "      <td>0.0</td>\n",
       "      <td>0.0</td>\n",
       "      <td>0.0</td>\n",
       "      <td>0.0</td>\n",
       "      <td>0.0</td>\n",
       "      <td>0.0</td>\n",
       "      <td>0.0</td>\n",
       "      <td>0.0</td>\n",
       "    </tr>\n",
       "  </tbody>\n",
       "</table>\n",
       "<p>5 rows × 371 columns</p>\n",
       "</div>"
      ],
      "text/plain": [
       "             timestamp  MT_001  MT_002  MT_003  MT_004  MT_005  MT_006  \\\n",
       "0  2011-01-01 00:15:00     0.0     0.0     0.0     0.0     0.0     0.0   \n",
       "1  2011-01-01 00:30:00     0.0     0.0     0.0     0.0     0.0     0.0   \n",
       "2  2011-01-01 00:45:00     0.0     0.0     0.0     0.0     0.0     0.0   \n",
       "3  2011-01-01 01:00:00     0.0     0.0     0.0     0.0     0.0     0.0   \n",
       "4  2011-01-01 01:15:00     0.0     0.0     0.0     0.0     0.0     0.0   \n",
       "\n",
       "   MT_007  MT_008  MT_009  ...  MT_361  MT_362  MT_363  MT_364  MT_365  \\\n",
       "0     0.0     0.0     0.0  ...     0.0     0.0     0.0     0.0     0.0   \n",
       "1     0.0     0.0     0.0  ...     0.0     0.0     0.0     0.0     0.0   \n",
       "2     0.0     0.0     0.0  ...     0.0     0.0     0.0     0.0     0.0   \n",
       "3     0.0     0.0     0.0  ...     0.0     0.0     0.0     0.0     0.0   \n",
       "4     0.0     0.0     0.0  ...     0.0     0.0     0.0     0.0     0.0   \n",
       "\n",
       "   MT_366  MT_367  MT_368  MT_369  MT_370  \n",
       "0     0.0     0.0     0.0     0.0     0.0  \n",
       "1     0.0     0.0     0.0     0.0     0.0  \n",
       "2     0.0     0.0     0.0     0.0     0.0  \n",
       "3     0.0     0.0     0.0     0.0     0.0  \n",
       "4     0.0     0.0     0.0     0.0     0.0  \n",
       "\n",
       "[5 rows x 371 columns]"
      ]
     },
     "execution_count": 3,
     "metadata": {},
     "output_type": "execute_result"
    }
   ],
   "source": [
    "df_.head()"
   ]
  },
  {
   "cell_type": "markdown",
   "id": "c3b732e3-c9d0-46bc-bfa7-99fc071ed075",
   "metadata": {},
   "source": [
    "# EDA 1: Proportion of zeros"
   ]
  },
  {
   "cell_type": "code",
   "execution_count": 4,
   "id": "29ff5ab1",
   "metadata": {},
   "outputs": [
    {
     "data": {
      "text/html": [
       "<div>\n",
       "<style scoped>\n",
       "    .dataframe tbody tr th:only-of-type {\n",
       "        vertical-align: middle;\n",
       "    }\n",
       "\n",
       "    .dataframe tbody tr th {\n",
       "        vertical-align: top;\n",
       "    }\n",
       "\n",
       "    .dataframe thead th {\n",
       "        text-align: right;\n",
       "    }\n",
       "</style>\n",
       "<table border=\"1\" class=\"dataframe\">\n",
       "  <thead>\n",
       "    <tr style=\"text-align: right;\">\n",
       "      <th></th>\n",
       "      <th>MT_001</th>\n",
       "      <th>MT_002</th>\n",
       "      <th>MT_003</th>\n",
       "      <th>MT_004</th>\n",
       "      <th>MT_005</th>\n",
       "      <th>MT_006</th>\n",
       "      <th>MT_007</th>\n",
       "      <th>MT_008</th>\n",
       "      <th>MT_009</th>\n",
       "      <th>MT_010</th>\n",
       "      <th>...</th>\n",
       "      <th>MT_361</th>\n",
       "      <th>MT_362</th>\n",
       "      <th>MT_363</th>\n",
       "      <th>MT_364</th>\n",
       "      <th>MT_365</th>\n",
       "      <th>MT_366</th>\n",
       "      <th>MT_367</th>\n",
       "      <th>MT_368</th>\n",
       "      <th>MT_369</th>\n",
       "      <th>MT_370</th>\n",
       "    </tr>\n",
       "    <tr>\n",
       "      <th>timestamp</th>\n",
       "      <th></th>\n",
       "      <th></th>\n",
       "      <th></th>\n",
       "      <th></th>\n",
       "      <th></th>\n",
       "      <th></th>\n",
       "      <th></th>\n",
       "      <th></th>\n",
       "      <th></th>\n",
       "      <th></th>\n",
       "      <th></th>\n",
       "      <th></th>\n",
       "      <th></th>\n",
       "      <th></th>\n",
       "      <th></th>\n",
       "      <th></th>\n",
       "      <th></th>\n",
       "      <th></th>\n",
       "      <th></th>\n",
       "      <th></th>\n",
       "      <th></th>\n",
       "    </tr>\n",
       "  </thead>\n",
       "  <tbody>\n",
       "    <tr>\n",
       "      <th>2011-01-01 00:15:00</th>\n",
       "      <td>0.0</td>\n",
       "      <td>0.0</td>\n",
       "      <td>0.0</td>\n",
       "      <td>0.0</td>\n",
       "      <td>0.0</td>\n",
       "      <td>0.0</td>\n",
       "      <td>0.0</td>\n",
       "      <td>0.0</td>\n",
       "      <td>0.0</td>\n",
       "      <td>0.0</td>\n",
       "      <td>...</td>\n",
       "      <td>0.0</td>\n",
       "      <td>0.0</td>\n",
       "      <td>0.0</td>\n",
       "      <td>0.0</td>\n",
       "      <td>0.0</td>\n",
       "      <td>0.0</td>\n",
       "      <td>0.0</td>\n",
       "      <td>0.0</td>\n",
       "      <td>0.0</td>\n",
       "      <td>0.0</td>\n",
       "    </tr>\n",
       "    <tr>\n",
       "      <th>2011-01-01 00:30:00</th>\n",
       "      <td>0.0</td>\n",
       "      <td>0.0</td>\n",
       "      <td>0.0</td>\n",
       "      <td>0.0</td>\n",
       "      <td>0.0</td>\n",
       "      <td>0.0</td>\n",
       "      <td>0.0</td>\n",
       "      <td>0.0</td>\n",
       "      <td>0.0</td>\n",
       "      <td>0.0</td>\n",
       "      <td>...</td>\n",
       "      <td>0.0</td>\n",
       "      <td>0.0</td>\n",
       "      <td>0.0</td>\n",
       "      <td>0.0</td>\n",
       "      <td>0.0</td>\n",
       "      <td>0.0</td>\n",
       "      <td>0.0</td>\n",
       "      <td>0.0</td>\n",
       "      <td>0.0</td>\n",
       "      <td>0.0</td>\n",
       "    </tr>\n",
       "    <tr>\n",
       "      <th>2011-01-01 00:45:00</th>\n",
       "      <td>0.0</td>\n",
       "      <td>0.0</td>\n",
       "      <td>0.0</td>\n",
       "      <td>0.0</td>\n",
       "      <td>0.0</td>\n",
       "      <td>0.0</td>\n",
       "      <td>0.0</td>\n",
       "      <td>0.0</td>\n",
       "      <td>0.0</td>\n",
       "      <td>0.0</td>\n",
       "      <td>...</td>\n",
       "      <td>0.0</td>\n",
       "      <td>0.0</td>\n",
       "      <td>0.0</td>\n",
       "      <td>0.0</td>\n",
       "      <td>0.0</td>\n",
       "      <td>0.0</td>\n",
       "      <td>0.0</td>\n",
       "      <td>0.0</td>\n",
       "      <td>0.0</td>\n",
       "      <td>0.0</td>\n",
       "    </tr>\n",
       "    <tr>\n",
       "      <th>2011-01-01 01:00:00</th>\n",
       "      <td>0.0</td>\n",
       "      <td>0.0</td>\n",
       "      <td>0.0</td>\n",
       "      <td>0.0</td>\n",
       "      <td>0.0</td>\n",
       "      <td>0.0</td>\n",
       "      <td>0.0</td>\n",
       "      <td>0.0</td>\n",
       "      <td>0.0</td>\n",
       "      <td>0.0</td>\n",
       "      <td>...</td>\n",
       "      <td>0.0</td>\n",
       "      <td>0.0</td>\n",
       "      <td>0.0</td>\n",
       "      <td>0.0</td>\n",
       "      <td>0.0</td>\n",
       "      <td>0.0</td>\n",
       "      <td>0.0</td>\n",
       "      <td>0.0</td>\n",
       "      <td>0.0</td>\n",
       "      <td>0.0</td>\n",
       "    </tr>\n",
       "    <tr>\n",
       "      <th>2011-01-01 01:15:00</th>\n",
       "      <td>0.0</td>\n",
       "      <td>0.0</td>\n",
       "      <td>0.0</td>\n",
       "      <td>0.0</td>\n",
       "      <td>0.0</td>\n",
       "      <td>0.0</td>\n",
       "      <td>0.0</td>\n",
       "      <td>0.0</td>\n",
       "      <td>0.0</td>\n",
       "      <td>0.0</td>\n",
       "      <td>...</td>\n",
       "      <td>0.0</td>\n",
       "      <td>0.0</td>\n",
       "      <td>0.0</td>\n",
       "      <td>0.0</td>\n",
       "      <td>0.0</td>\n",
       "      <td>0.0</td>\n",
       "      <td>0.0</td>\n",
       "      <td>0.0</td>\n",
       "      <td>0.0</td>\n",
       "      <td>0.0</td>\n",
       "    </tr>\n",
       "  </tbody>\n",
       "</table>\n",
       "<p>5 rows × 370 columns</p>\n",
       "</div>"
      ],
      "text/plain": [
       "                     MT_001  MT_002  MT_003  MT_004  MT_005  MT_006  MT_007  \\\n",
       "timestamp                                                                     \n",
       "2011-01-01 00:15:00     0.0     0.0     0.0     0.0     0.0     0.0     0.0   \n",
       "2011-01-01 00:30:00     0.0     0.0     0.0     0.0     0.0     0.0     0.0   \n",
       "2011-01-01 00:45:00     0.0     0.0     0.0     0.0     0.0     0.0     0.0   \n",
       "2011-01-01 01:00:00     0.0     0.0     0.0     0.0     0.0     0.0     0.0   \n",
       "2011-01-01 01:15:00     0.0     0.0     0.0     0.0     0.0     0.0     0.0   \n",
       "\n",
       "                     MT_008  MT_009  MT_010  ...  MT_361  MT_362  MT_363  \\\n",
       "timestamp                                    ...                           \n",
       "2011-01-01 00:15:00     0.0     0.0     0.0  ...     0.0     0.0     0.0   \n",
       "2011-01-01 00:30:00     0.0     0.0     0.0  ...     0.0     0.0     0.0   \n",
       "2011-01-01 00:45:00     0.0     0.0     0.0  ...     0.0     0.0     0.0   \n",
       "2011-01-01 01:00:00     0.0     0.0     0.0  ...     0.0     0.0     0.0   \n",
       "2011-01-01 01:15:00     0.0     0.0     0.0  ...     0.0     0.0     0.0   \n",
       "\n",
       "                     MT_364  MT_365  MT_366  MT_367  MT_368  MT_369  MT_370  \n",
       "timestamp                                                                    \n",
       "2011-01-01 00:15:00     0.0     0.0     0.0     0.0     0.0     0.0     0.0  \n",
       "2011-01-01 00:30:00     0.0     0.0     0.0     0.0     0.0     0.0     0.0  \n",
       "2011-01-01 00:45:00     0.0     0.0     0.0     0.0     0.0     0.0     0.0  \n",
       "2011-01-01 01:00:00     0.0     0.0     0.0     0.0     0.0     0.0     0.0  \n",
       "2011-01-01 01:15:00     0.0     0.0     0.0     0.0     0.0     0.0     0.0  \n",
       "\n",
       "[5 rows x 370 columns]"
      ]
     },
     "execution_count": 4,
     "metadata": {},
     "output_type": "execute_result"
    }
   ],
   "source": [
    "df = df_.set_index('timestamp')\n",
    "df.head()"
   ]
  },
  {
   "cell_type": "code",
   "execution_count": 5,
   "id": "4f9f4104",
   "metadata": {},
   "outputs": [],
   "source": [
    "zero_prop = np.array([(df[col] == 0).sum() for col in df.columns])/df.shape[0]\n",
    "clients = np.arange(1, 371)"
   ]
  },
  {
   "cell_type": "code",
   "execution_count": 6,
   "id": "185e2229",
   "metadata": {},
   "outputs": [
    {
     "data": {
      "text/plain": [
       "Text(0, 0.5, 'Proportion of zero readings')"
      ]
     },
     "execution_count": 6,
     "metadata": {},
     "output_type": "execute_result"
    },
    {
     "data": {
      "image/png": "[encoded data removed]",
      "text/plain": [
       "<Figure size 640x480 with 1 Axes>"
      ]
     },
     "metadata": {},
     "output_type": "display_data"
    }
   ],
   "source": [
    "plt.figure(1)\n",
    "plt.scatter(clients, zero_prop)\n",
    "plt.xlabel('Client number')\n",
    "plt.ylabel('Proportion of zero readings')"
   ]
  },
  {
   "cell_type": "code",
   "execution_count": 7,
   "id": "27b59e06",
   "metadata": {},
   "outputs": [
    {
     "data": {
      "text/plain": [
       "np.int64(49)"
      ]
     },
     "execution_count": 7,
     "metadata": {},
     "output_type": "execute_result"
    }
   ],
   "source": [
    "(zero_prop > 0.4).sum()"
   ]
  },
  {
   "cell_type": "code",
   "execution_count": 8,
   "id": "6a32f99b",
   "metadata": {},
   "outputs": [],
   "source": [
    "df.index = pd.to_datetime(df.index)"
   ]
  },
  {
   "cell_type": "code",
   "execution_count": 9,
   "id": "64cd00a4",
   "metadata": {},
   "outputs": [
    {
     "data": {
      "text/plain": [
       "Timestamp('2012-01-01 00:15:00')"
      ]
     },
     "execution_count": 9,
     "metadata": {},
     "output_type": "execute_result"
    }
   ],
   "source": [
    "s = df.MT_001\n",
    "s.index[s != 0][0]"
   ]
  },
  {
   "cell_type": "code",
   "execution_count": 10,
   "id": "0a5f97bf",
   "metadata": {},
   "outputs": [],
   "source": [
    "start_date = np.array([df[col].index[df[col] != 0][0] for col in df.columns])"
   ]
  },
  {
   "cell_type": "code",
   "execution_count": 11,
   "id": "3273e7bd",
   "metadata": {},
   "outputs": [
    {
     "data": {
      "text/plain": [
       "Text(0, 0.5, 'Start date')"
      ]
     },
     "execution_count": 11,
     "metadata": {},
     "output_type": "execute_result"
    },
    {
     "data": {
      "image/png": "[encoded data removed]",
      "text/plain": [
       "<Figure size 640x480 with 1 Axes>"
      ]
     },
     "metadata": {},
     "output_type": "display_data"
    }
   ],
   "source": [
    "plt.figure(2)\n",
    "plt.scatter(clients, start_date)\n",
    "plt.xlabel('Client number')\n",
    "plt.ylabel('Start date')"
   ]
  },
  {
   "cell_type": "markdown",
   "id": "e0ebdafe-a339-467d-a9d9-852934e9fc6b",
   "metadata": {},
   "source": [
    "# EDA 2: Newly added customers and correlation with weather"
   ]
  },
  {
   "cell_type": "code",
   "execution_count": 12,
   "id": "8fb5cc4d-4d06-4bd1-8f7c-70f2613a405e",
   "metadata": {},
   "outputs": [],
   "source": [
    "df = df_.copy()"
   ]
  },
  {
   "cell_type": "code",
   "execution_count": 13,
   "id": "fc1a714e-e011-4736-8c5e-1d32c2f37a18",
   "metadata": {},
   "outputs": [],
   "source": [
    "cols = [i for i in df.columns if i != \"timestamp\"]\n",
    "x = (df[cols] != float(0)).idxmax()\n",
    "y = pd.DataFrame(df.loc[x, \"timestamp\"].value_counts()).reset_index()\n",
    "y[\"year\"] = pd.to_datetime(y.timestamp).dt.year"
   ]
  },
  {
   "cell_type": "code",
   "execution_count": 14,
   "id": "32d462a8",
   "metadata": {},
   "outputs": [
    {
     "data": {
      "image/png": "[encoded data removed]",
      "text/plain": [
       "<Figure size 640x480 with 1 Axes>"
      ]
     },
     "metadata": {},
     "output_type": "display_data"
    }
   ],
   "source": [
    "new_yearly_cust = y.groupby(\"year\", as_index=False)[\"count\"].sum()\n",
    "sns.barplot(data = new_yearly_cust,\n",
    "            x = \"year\",\n",
    "            y = \"count\",\n",
    "            color = \"cornflowerblue\",\n",
    "            edgecolor = \"black\")\n",
    "plt.title(\"Newly added customers each year\")\n",
    "plt.ylabel(\"No.of new customers\")\n",
    "plt.xlabel(\"Year\")\n",
    "plt.show()"
   ]
  },
  {
   "cell_type": "code",
   "execution_count": 15,
   "id": "a93825d0",
   "metadata": {},
   "outputs": [],
   "source": [
    "temp = preprocess.preprocess(\"temperature\")\n",
    "precip = preprocess.preprocess(\"precipitation\")"
   ]
  },
  {
   "cell_type": "code",
   "execution_count": 16,
   "id": "21a5b010-be68-4cb7-8a1f-18483c629ccb",
   "metadata": {},
   "outputs": [],
   "source": [
    "df[\"timestamp\"] = pd.to_datetime(df[\"timestamp\"])\n",
    "df[\"date\"] = pd.to_datetime(df[\"timestamp\"].dt.strftime(\"%m-%d-%Y\"))\n",
    "d = df.groupby([\"date\"]).sum(\"MT_001\").sort_index()"
   ]
  },
  {
   "cell_type": "code",
   "execution_count": 17,
   "id": "5e07f885-56b0-4d06-b9fc-ea7a53fd48b4",
   "metadata": {},
   "outputs": [],
   "source": [
    "d = d.reset_index(drop = True)"
   ]
  },
  {
   "cell_type": "code",
   "execution_count": 18,
   "id": "e81efa2e-c667-4a0f-ad51-8c1111287a87",
   "metadata": {},
   "outputs": [],
   "source": [
    "def qualitative_corr(cor):\n",
    "\n",
    "    sign = None\n",
    "    if cor < 0:\n",
    "       sign = \"negative\"\n",
    "    else:\n",
    "       sign = \"positive\"\n",
    "\n",
    "    cor = abs(cor)\n",
    "    \n",
    "    if 0 <= cor <= 0.19:\n",
    "        return \"very weak\", sign\n",
    "    elif 0.2 <= cor <= 0.39:\n",
    "        return \"weak\", sign\n",
    "    elif 0.4 <= cor <= 0.59:\n",
    "        return \"moderate\", sign\n",
    "    elif 0.6 <= cor <= 0.79:\n",
    "        return \"strong\", sign\n",
    "    return \"very strong\", sign\n",
    "\n",
    "agg = {\"feature\": [], \"magnitude\": [], \"sign\": []}\n",
    "yrs = [2011, 2012, 2013, 2014]\n",
    "\n",
    "for i in d.columns:\n",
    "    start_service_idx = (d[i] != 0).idxmax()\n",
    "    elec_consump = d[i].values[start_service_idx:1461]\n",
    "    max_temp = temp[\"tmax\"].reset_index(drop = True).values[start_service_idx:]\n",
    "    min_temp = temp[\"tmin\"].reset_index(drop = True).values[start_service_idx:]\n",
    "    preci = precip[\"precip\"].reset_index(drop = True).values[start_service_idx:]\n",
    "\n",
    "    \n",
    "    _ = qualitative_corr(pearsonr(elec_consump, max_temp).statistic)\n",
    "    agg[\"feature\"].append(\"tmax\")\n",
    "    agg[\"magnitude\"].append(_[0])\n",
    "    agg[\"sign\"].append(_[1])\n",
    "    \n",
    "    _= qualitative_corr(pearsonr(elec_consump, min_temp).statistic)\n",
    "    agg[\"feature\"].append(\"tmin\")\n",
    "    agg[\"magnitude\"].append(_[0])\n",
    "    agg[\"sign\"].append(_[1])\n",
    "    \n",
    "    _ = qualitative_corr(pearsonr(elec_consump, preci).statistic)\n",
    "    agg[\"feature\"].append(\"precip\")\n",
    "    agg[\"magnitude\"].append(_[0])\n",
    "    agg[\"sign\"].append(_[1])"
   ]
  },
  {
   "cell_type": "code",
   "execution_count": 19,
   "id": "2624a648-f4b8-489f-bbeb-2bad244b67c5",
   "metadata": {},
   "outputs": [
    {
     "data": {
      "image/png": "[encoded data removed]",
      "text/plain": [
       "<Figure size 640x480 with 1 Axes>"
      ]
     },
     "metadata": {},
     "output_type": "display_data"
    }
   ],
   "source": [
    "corr = pd.DataFrame.from_dict(agg)\n",
    "corr_agg = corr[[\"feature\", \"magnitude\"]].value_counts().reset_index()\n",
    "ordinal_order = [\"very weak\", \"weak\", \"moderate\", \"strong\", \"very strong\"]\n",
    "colors = [\"crimson\", \"orange\", \"gold\", \"silver\", \"black\"]\n",
    "\n",
    "palette = dict(zip(ordinal_order, colors[::-1]))\n",
    "\n",
    "sns.barplot(data = corr_agg, x = \"feature\", y = \"count\", \n",
    "            hue = \"magnitude\", palette = palette, \n",
    "            hue_order = ordinal_order)\n",
    "plt.xlabel(\"Magnitude of Correlation (qualitative)\")\n",
    "plt.ylabel(\"Count\")\n",
    "plt.title(\"Correlation b/w electricity consumption, temperature, and precipitation\")\n",
    "plt.legend(title = \"magnitude\",\n",
    "           loc='center left', bbox_to_anchor=(1, 0.5))\n",
    "plt.show()"
   ]
  },
  {
   "cell_type": "code",
   "execution_count": 20,
   "id": "91b6e26e-1e48-471a-8597-3cd15c840c44",
   "metadata": {},
   "outputs": [
    {
     "data": {
      "image/png": "[encoded data removed]",
      "text/plain": [
       "<Figure size 640x480 with 1 Axes>"
      ]
     },
     "metadata": {},
     "output_type": "display_data"
    }
   ],
   "source": [
    "corr = pd.DataFrame.from_dict(agg)\n",
    "corr_agg = corr[[\"feature\", \"sign\"]].value_counts().reset_index()\n",
    "ordinal_order = [\"positive\", \"negative\"]\n",
    "colors = [\"crimson\", \"cornflowerblue\"]\n",
    "\n",
    "palette = dict(zip(ordinal_order, colors))\n",
    "\n",
    "sns.barplot(data = corr_agg, x = \"feature\", y = \"count\", \n",
    "            hue = \"sign\", palette = palette, \n",
    "            hue_order = ordinal_order)\n",
    "plt.xlabel(\"Sign of Correlation (qualitative)\")\n",
    "plt.ylabel(\"Count\")\n",
    "plt.title(\"Polarity of correlation b/w electricity consumption, temperature, and precipitation\")\n",
    "plt.legend(loc='center left', bbox_to_anchor=(1, 0.5))\n",
    "plt.show()"
   ]
  }
 ],
 "metadata": {
  "kernelspec": {
   "display_name": "forecasting venv",
   "language": "python",
   "name": "forecasting"
  },
  "language_info": {
   "codemirror_mode": {
    "name": "ipython",
    "version": 3
   },
   "file_extension": ".py",
   "mimetype": "text/x-python",
   "name": "python",
   "nbconvert_exporter": "python",
   "pygments_lexer": "ipython3",
   "version": "3.12.6"
  }
 },
 "nbformat": 4,
 "nbformat_minor": 5
}
